{
  "nbformat": 4,
  "nbformat_minor": 0,
  "metadata": {
    "colab": {
      "name": "Sample3.ipynb",
      "provenance": [],
      "authorship_tag": "ABX9TyMYM6zSL3BFL9nkstwXFgDW",
      "include_colab_link": true
    },
    "kernelspec": {
      "name": "python3",
      "display_name": "Python 3"
    },
    "language_info": {
      "name": "python"
    }
  },
  "cells": [
    {
      "cell_type": "markdown",
      "metadata": {
        "id": "view-in-github",
        "colab_type": "text"
      },
      "source": [
        "<a href=\"https://colab.research.google.com/github/Isha307/Resume_Parser/blob/main/Sample3.ipynb\" target=\"_parent\"><img src=\"https://colab.research.google.com/assets/colab-badge.svg\" alt=\"Open In Colab\"/></a>"
      ]
    },
    {
      "cell_type": "code",
      "metadata": {
        "colab": {
          "base_uri": "https://localhost:8080/"
        },
        "id": "Q9m3BmlRUp4s",
        "outputId": "fc75a88e-71d9-4c22-aff0-33bc2461fb57"
      },
      "source": [
        "!pip install PyPDF2"
      ],
      "execution_count": 2,
      "outputs": [
        {
          "output_type": "stream",
          "text": [
            "Collecting PyPDF2\n",
            "\u001b[?25l  Downloading https://files.pythonhosted.org/packages/b4/01/68fcc0d43daf4c6bdbc6b33cc3f77bda531c86b174cac56ef0ffdb96faab/PyPDF2-1.26.0.tar.gz (77kB)\n",
            "\r\u001b[K     |████▎                           | 10kB 12.2MB/s eta 0:00:01\r\u001b[K     |████████▌                       | 20kB 16.9MB/s eta 0:00:01\r\u001b[K     |████████████▊                   | 30kB 9.2MB/s eta 0:00:01\r\u001b[K     |█████████████████               | 40kB 8.7MB/s eta 0:00:01\r\u001b[K     |█████████████████████▏          | 51kB 5.2MB/s eta 0:00:01\r\u001b[K     |█████████████████████████▍      | 61kB 5.2MB/s eta 0:00:01\r\u001b[K     |█████████████████████████████▋  | 71kB 5.7MB/s eta 0:00:01\r\u001b[K     |████████████████████████████████| 81kB 3.4MB/s \n",
            "\u001b[?25hBuilding wheels for collected packages: PyPDF2\n",
            "  Building wheel for PyPDF2 (setup.py) ... \u001b[?25l\u001b[?25hdone\n",
            "  Created wheel for PyPDF2: filename=PyPDF2-1.26.0-cp37-none-any.whl size=61085 sha256=bbbd4e22142cfeed0155f53dee8e27e3bbee92443847c3b4a172832132c8104d\n",
            "  Stored in directory: /root/.cache/pip/wheels/53/84/19/35bc977c8bf5f0c23a8a011aa958acd4da4bbd7a229315c1b7\n",
            "Successfully built PyPDF2\n",
            "Installing collected packages: PyPDF2\n",
            "Successfully installed PyPDF2-1.26.0\n"
          ],
          "name": "stdout"
        }
      ]
    },
    {
      "cell_type": "code",
      "metadata": {
        "id": "D9chGcZoVOeB"
      },
      "source": [
        "import PyPDF2\n",
        "import requests\n",
        "\n",
        "import json\n"
      ],
      "execution_count": 3,
      "outputs": []
    },
    {
      "cell_type": "code",
      "metadata": {
        "colab": {
          "base_uri": "https://localhost:8080/"
        },
        "id": "Njb3xE-DVRDC",
        "outputId": "e8f21f23-4b25-434e-d37c-1a21cf6342cf"
      },
      "source": [
        "fFileObj = open('/content/RESUME.pdf', 'rb')\n",
        "pdfReader = PyPDF2.PdfFileReader(fFileObj)\n",
        "pageObj = pdfReader.getPage(0)\n",
        "print(\"Total Pages : {} \".format(pdfReader.numPages))\n"
      ],
      "execution_count": 10,
      "outputs": [
        {
          "output_type": "stream",
          "text": [
            "Total Pages : 1 \n"
          ],
          "name": "stdout"
        }
      ]
    },
    {
      "cell_type": "code",
      "metadata": {
        "id": "rKc2k-diVac_"
      },
      "source": [
        "resume = pageObj.extractText()\n",
        "url = \"https://api.iki.ai/api/skills_extraction/\"\n"
      ],
      "execution_count": 11,
      "outputs": []
    },
    {
      "cell_type": "code",
      "metadata": {
        "id": "GeTRLEUEVh7B"
      },
      "source": [
        "payload = {\n",
        "    \"text\":str(resume[0:2000])\n",
        "}"
      ],
      "execution_count": 12,
      "outputs": []
    },
    {
      "cell_type": "code",
      "metadata": {
        "id": "kgAe52QGVk6K"
      },
      "source": [
        "\n",
        "headers = {\n",
        "    'Content-Type': 'application/json'\n",
        "}"
      ],
      "execution_count": 13,
      "outputs": []
    },
    {
      "cell_type": "code",
      "metadata": {
        "colab": {
          "base_uri": "https://localhost:8080/"
        },
        "id": "qEErrVL8VqLl",
        "outputId": "17fb5013-ec2e-484e-dca3-1c498bd73783"
      },
      "source": [
        "print(len(resume))\n"
      ],
      "execution_count": 14,
      "outputs": [
        {
          "output_type": "stream",
          "text": [
            "1348\n"
          ],
          "name": "stdout"
        }
      ]
    },
    {
      "cell_type": "code",
      "metadata": {
        "colab": {
          "base_uri": "https://localhost:8080/"
        },
        "id": "yCbvPmLjVuPQ",
        "outputId": "1e25eb53-1396-43fe-d6cb-d4d1b0d86cce"
      },
      "source": [
        "r = requests.post(url, data=json.dumps(payload), headers=headers)\n",
        "print(r.json())"
      ],
      "execution_count": 15,
      "outputs": [
        {
          "output_type": "stream",
          "text": [
            "{'text_new': 'NARESH\\n[\\nnaresh6436@gmail.com\\nÓ\\n8901-13-5580\\n¯\\n<span class=\"_highlighted\">linkedin.com/in/naresh2002</span>\\n⁄\\n<span class=\"_highlighted\">github.com/naresh2002</span>\\nA<span class=\"_highlighted\">C</span>HIEVEMENTS\\n\\nRanked1st\\nincollegeinDiscovery<span class=\"_highlighted\">C</span>hal-\\nlengeby\\nScalerAcademy\\n\\nAchievedbestrankof\\n28\\nand\\n81\\nin\\nDivison\\n2<span class=\"_highlighted\">C</span>ook-o˙sheldon<span class=\"_highlighted\">C</span>odechef\\n\\nRated\\n4star(1990)\\non<span class=\"_highlighted\">C</span>odechef\\n\\n<span class=\"_highlighted\">Solved300+</span>\\nproblemsacrossvariousOn-\\nlineJudgesincluding<span class=\"_highlighted\">C</span>odeforces,<span class=\"_highlighted\">C</span>odechef,\\n<span class=\"_highlighted\">Atcoder</span>,etc\\nTE<span class=\"_highlighted\">C</span>HNI<span class=\"_highlighted\">C</span>ALSKILLS\\nProgramming\\n<span class=\"_highlighted\">C</span>,<span class=\"_highlighted\"><span class=\"_highlighted\">C</span>++</span>,<span class=\"_highlighted\">Python</span>\\nOperatingSystems\\nWindows,Linux\\nDatabases\\n<span class=\"_highlighted\">MongoDB</span>,<span class=\"_highlighted\">MySQL</span>\\nWeb-Developement\\n<span class=\"_highlighted\">HTML</span>,<span class=\"_highlighted\"><span class=\"_highlighted\">C</span>SS</span>,<span class=\"_highlighted\">JavaScript</span>,<span class=\"_highlighted\">ExpressJS</span>,<span class=\"_highlighted\">ReactJS</span>\\nOthers\\n<span class=\"_highlighted\">Algorithms</span>,<span class=\"_highlighted\">DataStructures</span>,<span class=\"_highlighted\">ProblemSolving</span>\\nSOFTSKILLS\\nLeadership,AbilitytoWorkUnderPressure,\\n<span class=\"_highlighted\">DecisionMaking</span>,<span class=\"_highlighted\">TimeManagement</span>,<span class=\"_highlighted\">Adapt-</span>\\nability,<span class=\"_highlighted\">Teamwork</span>,<span class=\"_highlighted\">C</span>reativity\\nEDU<span class=\"_highlighted\">C</span>ATION\\n<span class=\"_highlighted\">BachelorofTechnology</span>,<span class=\"_highlighted\">C</span>SE\\nIIITKalyani\\n\\nAug2019<span class=\"_highlighted\">C</span>urrent\\n<span class=\"_highlighted\">C</span>GPA\\n-8.3\\nIntermediate(<span class=\"_highlighted\">XIIGrade</span>)\\n<span class=\"_highlighted\">C</span>BSEBoard\\n\\nMay2018\\nPercentage\\n-82.8\\nPROJE<span class=\"_highlighted\">C</span>TS\\nE-commerceWebsite\\n\\nBuiltane-commercewebsiteusingMERN\\nstack.\\n\\nImplementedfeatureslikeproduct˝ltering\\nandsorting,cart,productcategories,etc.\\nSportsBlog\\n\\n<span class=\"_highlighted\">C</span>reatedasportsblogwithfull<span class=\"_highlighted\">C</span>RUDfunc-\\ntionity\\n\\n<span class=\"_highlighted\">Implementedfeatureslikeadding</span>,comment-\\ningposts,groupingpostsbycategory,etc\\nMovielistingWebsite\\n\\nBuiltaIMDBlikewebsitewhereuserscan\\nreadaboutamovieplotandwatchthetrailer.\\n\\nMoviescanbesearchedor˝lteredbygenre.\\n<span class=\"_highlighted\">C</span>hatWebsite\\n\\n<span class=\"_highlighted\">C</span>reatedaminiprojectwhereuserscansend\\nmessagestooneanother.\\n\\nUserneedtobeauthenticatedinorderto\\nsendmessagestootherusers.\\n', 'skills': ['JavaScript', 'CSS', 'C++', 'DataStructures', 'ExpressJS', 'C', 'DecisionMaking', 'HTML', 'ProblemSolving', 'Adapt-', 'Python', 'CSE', 'ReactJS', 'Atcoder', 'MongoDB', 'Teamwork', 'MySQL', 'Codechef', 'Implementedfeatureslikeadding', 'BachelorofTechnology', 'TimeManagement', 'XIIGrade', 'Implementedfeatureslikeproduct˝ltering andsorting', 'Creativity', 'Algorithms', 'Solved300+', 'Builtane-commercewebsiteusingMERN stack', 'github.com/naresh2002', 'linkedin.com/in/naresh2002']}\n"
          ],
          "name": "stdout"
        }
      ]
    }
  ]
}